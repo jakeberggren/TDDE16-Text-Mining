{
 "cells": [
  {
   "cell_type": "markdown",
   "id": "17cab251",
   "metadata": {},
   "source": [
    "<div class=\"alert alert-info\">\n",
    "    \n",
    "➡️ Make sure that you have read the **[rules for hand-in assignments](https://www.ida.liu.se/~TDDE16/exam.en.shtml#handins)** and the **[policy on cheating and plagiarism](https://www.ida.liu.se/~TDDE16/exam.en.shtml#cheating)** before starting with this lab.\n",
    "\n",
    "➡️ Make sure you fill in any cells (and _only_ those cells) that say **`YOUR CODE HERE`** or **YOUR ANSWER HERE**, and do _not_ modify any of the other cells.\n",
    "\n",
    "➡️ **Before you submit your lab, make sure everything runs as expected.** For this, _restart the kernel_ and _run all cells_ from top to bottom. In Jupyter Notebook version 7 or higher, you can do this via \"Run$\\rightarrow$Restart Kernel and Run All Cells...\" in the menu (or the \"⏩\" button in the toolbar).\n",
    "\n",
    "</div>"
   ]
  },
  {
   "cell_type": "markdown",
   "id": "91c4f84c-26c4-4bcb-81d1-8757088f0623",
   "metadata": {},
   "source": [
    "# L1: Information Retrieval\n",
    "\n",
    "In this lab you will apply basic techniques from information retrieval to implement the core of a minimalistic search engine. The data for this lab consists of a collection of app descriptions scraped from the [Google Play Store](https://play.google.com/store/apps?hl=en). From this collection, your search engine should retrieve those apps whose descriptions best match a given query under the vector space model."
   ]
  },
  {
   "cell_type": "code",
   "execution_count": null,
   "id": "2c92aa93-cf15-4e1c-975e-fea9bbe0b0c4",
   "metadata": {
    "deletable": false,
    "editable": false,
    "nbgrader": {
     "cell_type": "code",
     "checksum": "8f9dc2c0bcae45f12b202be2222aefcd",
     "grade": false,
     "grade_id": "cell-f766ed4c371f7a04",
     "locked": true,
     "schema_version": 3,
     "solution": false,
     "task": false
    }
   },
   "outputs": [],
   "source": [
    "# Define some helper functions that are used in this notebook\n",
    "\n",
    "from IPython.display import display, HTML\n",
    "\n",
    "def success():\n",
    "    display(HTML('<div class=\"alert alert-success\"><strong>Solution appears correct!</strong></div>'))"
   ]
  },
  {
   "cell_type": "markdown",
   "id": "d2b5345b-0f8f-4a58-b7d3-bd5baae0c281",
   "metadata": {},
   "source": [
    "## Data set"
   ]
  },
  {
   "cell_type": "markdown",
   "id": "68a82b5c-1660-4389-942b-f15420289549",
   "metadata": {},
   "source": [
    "The app descriptions come in the form of a compressed [JSON](https://en.wikipedia.org/wiki/JSON) file. Start by loading this file into a [Pandas](https://pandas.pydata.org) [DataFrame](https://pandas.pydata.org/pandas-docs/stable/getting_started/dsintro.html#dataframe)."
   ]
  },
  {
   "cell_type": "code",
   "execution_count": null,
   "id": "fd4982e3-3df4-4837-97b5-4c300b0d4a20",
   "metadata": {
    "deletable": false,
    "editable": false,
    "nbgrader": {
     "cell_type": "code",
     "checksum": "85522a5eda16cc395ff1cfd712adf93d",
     "grade": false,
     "grade_id": "cell-c5ac0bec64889197",
     "locked": true,
     "schema_version": 3,
     "solution": false,
     "task": false
    }
   },
   "outputs": [],
   "source": [
    "import bz2\n",
    "import numpy as np\n",
    "import pandas as pd\n",
    "\n",
    "with bz2.open('app-descriptions.json.bz2') as source:\n",
    "    df = pd.read_json(source)"
   ]
  },
  {
   "cell_type": "markdown",
   "id": "30823068-3102-430d-9989-b4f530756a08",
   "metadata": {},
   "source": [
    "In Pandas, a DataFrame is a table with indexed rows and labelled columns of potentially different types. You can access data in a DataFrame in various ways, including by row and column. To give an example, the code in the next cell shows rows 200–204:"
   ]
  },
  {
   "cell_type": "code",
   "execution_count": null,
   "id": "9bb955a7-68d4-4e01-b0bd-16ae110af477",
   "metadata": {},
   "outputs": [],
   "source": [
    "df[200:205]"
   ]
  },
  {
   "cell_type": "markdown",
   "id": "27186bc1-de90-4125-837a-7b4e8671d276",
   "metadata": {},
   "source": [
    "As you can see, there are two labelled columns: `name` (the name of the app) and `description` (a textual description). The code in the next cell shows how to access fields from the description column."
   ]
  },
  {
   "cell_type": "code",
   "execution_count": null,
   "id": "595bb7af-5ee4-4b8e-8f5e-df5aaae688d9",
   "metadata": {},
   "outputs": [],
   "source": [
    "df['description'][200:205]"
   ]
  },
  {
   "cell_type": "markdown",
   "id": "35e9d0cb-a8bb-4e94-9b8c-b6b33651ac8e",
   "metadata": {},
   "source": [
    "## Problem 1: Preprocessing"
   ]
  },
  {
   "cell_type": "markdown",
   "id": "d81a9865-f314-4d80-9fac-e6544413ee3a",
   "metadata": {},
   "source": [
    "Your first task is to implement a preprocessor for your search engine. In the vector space model, *preprocessing* refers to any transformation applied to a text before vectorisation. Here you can restrict yourself to a simple type of preprocessing: tokenisation, stop word removal, and lemmatisation.\n",
    "\n",
    "To implement your preprocessor, you can use [spaCy](https://spacy.io). Make sure to read the [Linguistic annotations](https://spacy.io/usage/spacy-101#annotations) section of the spaCy&nbsp;101; that section contains all the information you need for this problem (and more).\n",
    "\n",
    "Implement your preprocessor by completing the skeleton code in the next cell, adding additional code as you deem necessary."
   ]
  },
  {
   "cell_type": "code",
   "execution_count": null,
   "id": "1a2a6fc6-dee8-4140-bf7a-1a245e60a1b3",
   "metadata": {
    "deletable": false,
    "nbgrader": {
     "cell_type": "code",
     "checksum": "cfddd1c7bdc1c3061f5ecee4926ccb9d",
     "grade": false,
     "grade_id": "cell-2df4eac94cdf6be3",
     "locked": false,
     "schema_version": 3,
     "solution": true,
     "task": false
    }
   },
   "outputs": [],
   "source": [
    "import spacy\n",
    "nlp = spacy.load('en_core_web_sm', disable=['parser', 'ner', 'textcat'])\n",
    "\n",
    "def preprocess(text):\n",
    "    \"\"\"Preprocess the given text by tokenising it, removing any stop words, \n",
    "    replacing each remaining token with its lemma (base form), and discarding \n",
    "    all lemmas that contain non-alphabetical characters.\n",
    "\n",
    "    Arguments:\n",
    "      text (str): The text to preprocess.\n",
    "\n",
    "    Returns:\n",
    "      The list of remaining lemmas after preprocessing (represented as strings).\n",
    "    \"\"\"\n",
    "    # YOUR CODE HERE\n",
    "    raise NotImplementedError()"
   ]
  },
  {
   "cell_type": "markdown",
   "id": "8af08b57-8e0c-4526-b7fc-94c8bace1936",
   "metadata": {},
   "source": [
    "### 🤞 Test your code\n",
    "\n",
    "Test your implementation by running the following cell:"
   ]
  },
  {
   "cell_type": "code",
   "execution_count": null,
   "id": "e918affb-f8aa-4cbf-9cbe-b03b9251e941",
   "metadata": {
    "deletable": false,
    "editable": false,
    "nbgrader": {
     "cell_type": "code",
     "checksum": "539b9043be91aac1f9d82fb62dea6112",
     "grade": true,
     "grade_id": "cell-642185b139f2cef6",
     "locked": true,
     "points": 1,
     "schema_version": 3,
     "solution": false,
     "task": false
    }
   },
   "outputs": [],
   "source": [
    "\"\"\"Check that the preprocessing returns the correct output for a number of test cases.\"\"\"\n",
    "\n",
    "assert (\n",
    "    preprocess('Apple is looking at buying U.K. startup for $1 billion') ==\n",
    "    ['Apple', 'look', 'buy', 'startup', 'billion']\n",
    ")\n",
    "assert (\n",
    "    preprocess('\"Love Story\" is a country pop song written and sung by Taylor Swift.') ==\n",
    "    ['Love', 'Story', 'country', 'pop', 'song', 'write', 'sing', 'Taylor', 'Swift']\n",
    ")\n",
    "success()"
   ]
  },
  {
   "cell_type": "markdown",
   "id": "8e2852ff-b0ca-45b1-b904-530a1ae3494f",
   "metadata": {},
   "source": [
    "## Problem 2: Vectorising"
   ]
  },
  {
   "cell_type": "markdown",
   "id": "97a37f90-e7d8-4542-89e0-bea664601769",
   "metadata": {},
   "source": [
    "Your next task is to vectorise the data – and more specifically, to map each app description to a tf–idf vector. For this you can use the [TfidfVectorizer](https://scikit-learn.org/stable/modules/generated/sklearn.feature_extraction.text.TfidfVectorizer.html) class from [scikit-learn](https://scikit-learn.org/stable/). Make sure to specify your preprocessor from the previous problem as the `tokenizer` &ndash; not the `preprocessor`! &ndash; for the vectoriser. (In scikit-learn terminology, the `preprocessor` handles string-level preprocessing.)\n",
    "\n",
    "After running the following cell:\n",
    "- `vectorizer` should contain the vectorizer fitted on `df['description']`\n",
    "- `X` should contain the vectorized `df['description']`"
   ]
  },
  {
   "cell_type": "code",
   "execution_count": null,
   "id": "0ca674d8-c2df-4c8f-bb3d-6d59bdc401fb",
   "metadata": {
    "deletable": false,
    "nbgrader": {
     "cell_type": "code",
     "checksum": "f837f579b922fc7145fe30b2c26a1e10",
     "grade": false,
     "grade_id": "cell-eeff6351582552c5",
     "locked": false,
     "schema_version": 3,
     "solution": true,
     "task": false
    }
   },
   "outputs": [],
   "source": [
    "vectorizer, X = ..., ...\n",
    "\n",
    "# YOUR CODE HERE\n",
    "raise NotImplementedError()"
   ]
  },
  {
   "cell_type": "markdown",
   "id": "12c88775-0daf-4c6a-8bc0-9a101bb1fa45",
   "metadata": {},
   "source": [
    "### 🤞 Test your code\n",
    "\n",
    "Test your implementation by running the following cell:"
   ]
  },
  {
   "cell_type": "code",
   "execution_count": null,
   "id": "edb03bab-edee-4b5d-98e3-c0fdb36ae507",
   "metadata": {
    "deletable": false,
    "editable": false,
    "nbgrader": {
     "cell_type": "code",
     "checksum": "5404c5720e00ab1c13924e5cf7c505cd",
     "grade": true,
     "grade_id": "cell-6c820c0e04315313",
     "locked": true,
     "points": 1,
     "schema_version": 3,
     "solution": false,
     "task": false
    }
   },
   "outputs": [],
   "source": [
    "\"\"\"Check that the dimensions of X are as expected.\"\"\"\n",
    "\n",
    "print(f\"The dimensions of X are: {X.shape}\")\n",
    "assert X.shape[0] == 1614\n",
    "assert 21200 < X.shape[1] < 21500\n",
    "\n",
    "success()"
   ]
  },
  {
   "cell_type": "markdown",
   "id": "7f93ad72-b189-4ca4-80c0-c6f15eebe1e0",
   "metadata": {},
   "source": [
    "The dimensions of `X` should be around 1614$\\times$21356; the number of rows should be _exactly_ 1614 , while the number of columns may differ from that given here depending on the version of spaCy and the version of the language model used, as well as the pre-processing."
   ]
  },
  {
   "cell_type": "markdown",
   "id": "a32e7b26-3b4f-4198-89f0-37bf54086827",
   "metadata": {},
   "source": [
    "## Problem 3: Retrieving"
   ]
  },
  {
   "cell_type": "markdown",
   "id": "2413f786-8a38-4321-85d7-35e571f97aba",
   "metadata": {},
   "source": [
    "To complete the search engine, your last task is to write a function that returns the most relevant app descriptions for a given query. An easy way to solve this task is to use scikit-learn&rsquo;s [NearestNeighbors](https://scikit-learn.org/stable/modules/generated/sklearn.neighbors.NearestNeighbors.html) class. That class implements unsupervised nearest neighbours learning and allows you to easily find a predefined number of app descriptions whose vector representations are closest to the query vector.\n",
    "\n",
    "First, instantiate and fit a class that returns the _ten (10)_ nearest neighbors:"
   ]
  },
  {
   "cell_type": "code",
   "execution_count": null,
   "id": "80145071-fe5b-4366-87d0-99c39567a736",
   "metadata": {
    "deletable": false,
    "nbgrader": {
     "cell_type": "code",
     "checksum": "c6ef66ce57f93d46bc57283865423a40",
     "grade": false,
     "grade_id": "cell-f9aa465499d29b7c",
     "locked": false,
     "schema_version": 3,
     "solution": true,
     "task": false
    }
   },
   "outputs": [],
   "source": [
    "\"\"\"Instantiate and fit a class that returns the 10 nearest neighbors.\"\"\"\n",
    "\n",
    "# YOUR CODE HERE\n",
    "raise NotImplementedError()"
   ]
  },
  {
   "cell_type": "markdown",
   "id": "5c79b405-a236-4caf-a140-dff01e0ee88b",
   "metadata": {},
   "source": [
    "Second, implement a function that uses the fitted class to find the nearest neighbours for a given query string:"
   ]
  },
  {
   "cell_type": "code",
   "execution_count": null,
   "id": "d4efd824-0122-40de-9fc6-efd071be906a",
   "metadata": {
    "deletable": false,
    "nbgrader": {
     "cell_type": "code",
     "checksum": "613e1cce3f80da017557890ac51d8250",
     "grade": false,
     "grade_id": "cell-f87fb3083e21c7f8",
     "locked": false,
     "schema_version": 3,
     "solution": true,
     "task": false
    }
   },
   "outputs": [],
   "source": [
    "def search(query):\n",
    "    \"\"\"Find the nearest neighbors in `df` for a query string.\n",
    "\n",
    "    Arguments:\n",
    "      query (str): A query string.\n",
    "\n",
    "    Returns:\n",
    "      The 10 apps (with name and description) most similar (in terms of\n",
    "      cosine similarity) to the given query as a Pandas DataFrame.\n",
    "    \"\"\"\n",
    "    # YOUR CODE HERE\n",
    "    raise NotImplementedError()"
   ]
  },
  {
   "cell_type": "markdown",
   "id": "e2cbb9f7-1cf5-49b9-a364-7b23fb6bbd1d",
   "metadata": {},
   "source": [
    "### 🤞 Test your code\n",
    "\n",
    "Test your implementation by running the following cell, which will show the 10 best search results for the query _\"dodge trains\"_:"
   ]
  },
  {
   "cell_type": "code",
   "execution_count": null,
   "id": "3d30a52e-bdac-412b-b9c4-8e9cc17436a6",
   "metadata": {
    "deletable": false,
    "editable": false,
    "nbgrader": {
     "cell_type": "code",
     "checksum": "fcd119ee5b0895446eb9d5c275fc236d",
     "grade": true,
     "grade_id": "cell-8506d7fe5961f87b",
     "locked": true,
     "points": 1,
     "schema_version": 3,
     "solution": false,
     "task": false
    }
   },
   "outputs": [],
   "source": [
    "\"\"\"Check that searching for \"dodge trains\" returns a DataFrame with ten results,\n",
    "   and that the top result is \"Subway Surfers\".\"\"\"\n",
    "\n",
    "result = search('dodge trains')\n",
    "display(result)\n",
    "assert isinstance(result, pd.DataFrame), \"Search results should be a Pandas DataFrame\"\n",
    "assert len(result) == 10, \"Should return 10 search results\"\n",
    "assert result.iloc[0][\"name\"] == \"Subway Surfers\", \"Top search result should be 'Subway Surfers'\"\n",
    "success()"
   ]
  },
  {
   "cell_type": "markdown",
   "id": "2f1dcaf2-2b9b-4be8-8c25-40c13d8cc4ef",
   "metadata": {},
   "source": [
    "The top hit in the list should be _Subway Surfers_."
   ]
  },
  {
   "cell_type": "markdown",
   "id": "af8229ea-3424-496a-84dc-76df5e41319c",
   "metadata": {},
   "source": [
    "## Problem 4: Finding terms with low/high idf"
   ]
  },
  {
   "cell_type": "markdown",
   "id": "0f689e35-9d58-4a5a-8719-3c8580ba1fd5",
   "metadata": {},
   "source": [
    "Recall that the inverse document frequency (idf) of a term is the lower, the more documents from a given collection the term appears in. To get a better understanding for this concept, your next task is to write code to find out which terms from the app descriptions have the lowest/highest idf.\n",
    "\n",
    "Start by sorting the terms in _increasing_ order of idf, breaking ties by falling back on alphabetic order, and store the result in the variable `terms`."
   ]
  },
  {
   "cell_type": "code",
   "execution_count": null,
   "id": "5c9df0a4-2c15-4d2e-ad21-f121f39a4c72",
   "metadata": {
    "deletable": false,
    "nbgrader": {
     "cell_type": "code",
     "checksum": "162389cea256d40c34b8fa35a098d991",
     "grade": false,
     "grade_id": "cell-009867e6c5c4a8c9",
     "locked": false,
     "schema_version": 3,
     "solution": true,
     "task": false
    }
   },
   "outputs": [],
   "source": [
    "terms = []\n",
    "# YOUR CODE HERE\n",
    "raise NotImplementedError()"
   ]
  },
  {
   "cell_type": "markdown",
   "id": "a7a2b1dd-82fd-49ae-8771-c4ecd58bbe64",
   "metadata": {},
   "source": [
    "The following cell prints the 10 terms with the lowest/highest idf, which you can use to check if your results appear correct:"
   ]
  },
  {
   "cell_type": "code",
   "execution_count": null,
   "id": "56f80f09-da92-4384-9989-42e650416d91",
   "metadata": {
    "deletable": false,
    "editable": false,
    "nbgrader": {
     "cell_type": "code",
     "checksum": "3e7626ffdb247346bfac3d6f6de5d537",
     "grade": true,
     "grade_id": "cell-a54a052ddaa94bf0",
     "locked": true,
     "points": 1,
     "schema_version": 3,
     "solution": false,
     "task": false
    }
   },
   "outputs": [],
   "source": [
    "\"\"\"Print first 10/last 10 terms.\"\"\"\n",
    "\n",
    "print(f\"Terms with the lowest idf:\\n{terms[:10]}\\n\")\n",
    "print(f\"Terms with the highest idf:\\n{terms[-10:]}\")"
   ]
  },
  {
   "cell_type": "markdown",
   "id": "a099ea52-599e-4c01-99d9-e7388d2c5be8",
   "metadata": {},
   "source": [
    "## Problem 5: Keyword extraction"
   ]
  },
  {
   "cell_type": "markdown",
   "id": "d2aacd2e-3de9-49fe-aab2-2e8b5577ac1b",
   "metadata": {},
   "source": [
    "We often want to extract salient keywords from a document. A simple method is to pick the $k$ terms with the highest tf–idf value. Your last task in this lab is to implement this method. More specifically, we ask you to implement a function `keywords` that extracts keywords from a text."
   ]
  },
  {
   "cell_type": "code",
   "execution_count": null,
   "id": "521a307f-eeab-48ec-b139-d5111e2b2ba8",
   "metadata": {
    "deletable": false,
    "nbgrader": {
     "cell_type": "code",
     "checksum": "cb727ddf70f84ef9387a1bca41f0dc89",
     "grade": false,
     "grade_id": "cell-9c62bb6b91bb0383",
     "locked": false,
     "schema_version": 3,
     "solution": true,
     "task": false
    }
   },
   "outputs": [],
   "source": [
    "def keywords(text, n=10):\n",
    "    \"\"\"\n",
    "    Arguments:\n",
    "      text (str): The text from which to extract keywords.\n",
    "      n (int): The number of keywords to extract. [default: 10]\n",
    "\n",
    "    Returns:\n",
    "      A list containing the `n` most salient keywords from `text`, as measured by\n",
    "      their tf–idf value relative to the collection of app descriptions.\n",
    "    \"\"\"\n",
    "    # YOUR CODE HERE\n",
    "    raise NotImplementedError()"
   ]
  },
  {
   "cell_type": "markdown",
   "id": "07a4a6b3-78dd-4ece-9c56-fa73c6319ec0",
   "metadata": {},
   "source": [
    "### 🤞 Test your code\n",
    "\n",
    "Test your implementation by running the following cell:"
   ]
  },
  {
   "cell_type": "code",
   "execution_count": null,
   "id": "eb0344ed-f785-41c0-b74b-80208f148ab8",
   "metadata": {
    "deletable": false,
    "editable": false,
    "nbgrader": {
     "cell_type": "code",
     "checksum": "b6e85b6c4656024d3abb651dcdec37fd",
     "grade": true,
     "grade_id": "cell-476a0bf4768cbde9",
     "locked": true,
     "points": 1,
     "schema_version": 3,
     "solution": false,
     "task": false
    }
   },
   "outputs": [],
   "source": [
    "\"\"\"Check that the most salient keywords from the description of 'Train Conductor World'\n",
    "   overlap substantially with the expected list of keywords.\"\"\"\n",
    "\n",
    "out = keywords(df['description'][1428])\n",
    "print(out)\n",
    "assert len(out) == 10\n",
    "assert len(\n",
    "    set(out) & set(['train', 'railway', 'railroad', 'rail', 'chaos', 'crash', 'timetable', 'overcast', 'haul', 'tram'])\n",
    ") >= 6, \"Keywords for df['description'][1428] do not overlap substantially with the expected result\"\n",
    "success()"
   ]
  },
  {
   "cell_type": "markdown",
   "id": "e6ff1084-839a-4fbb-9f97-f1db934647bc",
   "metadata": {},
   "source": [
    "The cell above prints the most salient keywords from the description of the app \"Train Conductor World\". The exact output may differ slightly depending on the strategy used to break ties, so the cell only checks if there is a sufficient overlap."
   ]
  },
  {
   "cell_type": "markdown",
   "id": "125ccdbd-4375-4d2f-8b1d-f47097ef2e84",
   "metadata": {},
   "source": [
    "**Congratulations on finishing this lab! 👍**\n",
    "\n",
    "<div class=\"alert alert-info\">\n",
    "    \n",
    "➡️ Don't forget to **test that everything runs as expected** before you submit!\n",
    "\n",
    "</div>"
   ]
  }
 ],
 "metadata": {
  "kernelspec": {
   "display_name": "Python 3 (ipykernel)",
   "language": "python",
   "name": "python3"
  },
  "language_info": {
   "codemirror_mode": {
    "name": "ipython",
    "version": 3
   },
   "file_extension": ".py",
   "mimetype": "text/x-python",
   "name": "python",
   "nbconvert_exporter": "python",
   "pygments_lexer": "ipython3",
   "version": "3.11.5"
  }
 },
 "nbformat": 4,
 "nbformat_minor": 5
}
